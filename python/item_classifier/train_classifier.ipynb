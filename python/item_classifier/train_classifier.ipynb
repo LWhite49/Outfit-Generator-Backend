{
 "cells": [
  {
   "cell_type": "code",
   "execution_count": 1,
   "metadata": {},
   "outputs": [],
   "source": [
    "import torch\n",
    "import torch.nn as nn\n",
    "from torchvision import transforms\n",
    "from torch.utils.data import DataLoader, random_split\n",
    "import matplotlib.pyplot as plt\n",
    "from ImageFolderDataset import ImageFolderDataset\n",
    "from ClothingClassifier import ClothingClassifier\n",
    "from loop_functions import train_step, test_step"
   ]
  },
  {
   "cell_type": "code",
   "execution_count": 2,
   "metadata": {},
   "outputs": [
    {
     "name": "stdout",
     "output_type": "stream",
     "text": [
      "Image shape: torch.Size([1, 60, 60])\n"
     ]
    },
    {
     "data": {
      "text/plain": [
       "Text(0.5, 1.0, 'Sports Shoes')"
      ]
     },
     "execution_count": 2,
     "metadata": {},
     "output_type": "execute_result"
    },
    {
     "data": {
      "image/png": "[encoded data removed]",
      "text/plain": [
       "<Figure size 640x480 with 1 Axes>"
      ]
     },
     "metadata": {},
     "output_type": "display_data"
    }
   ],
   "source": [
    "IMG_SIZE = (60, 60)\n",
    "# prepare set of transforms on images to make training more robust\n",
    "data_transform = transforms.Compose([transforms.Resize(size=IMG_SIZE),\n",
    "                                    transforms.RandomRotation(degrees=(-90, 90), fill=255),\n",
    "                                    transforms.ColorJitter(brightness=0.5, contrast=0.5, saturation=0.5),\n",
    "                                    transforms.Grayscale(),\n",
    "                                    transforms.ToTensor()])\n",
    "\n",
    "# utilize custom Dataset to load the images and labels\n",
    "clothing_dataset = ImageFolderDataset('dataset/cleaned_styles.csv', 'dataset/e-commerce/images', 'articleType', transform=data_transform)\n",
    "image, label = clothing_dataset[59]\n",
    "classes = clothing_dataset.classes\n",
    "\n",
    "# visualize an entry\n",
    "print(f\"Image shape: {image.shape}\")\n",
    "plt.imshow(image.squeeze(), cmap='gray') # image shape is [1, 28, 28] (colour channels, height, width)\n",
    "plt.title(classes[label])"
   ]
  },
  {
   "cell_type": "code",
   "execution_count": 3,
   "metadata": {},
   "outputs": [
    {
     "data": {
      "text/plain": [
       "(tensor([[[1., 1., 1.,  ..., 1., 1., 1.],\n",
       "          [1., 1., 1.,  ..., 1., 1., 1.],\n",
       "          [1., 1., 1.,  ..., 1., 1., 1.],\n",
       "          ...,\n",
       "          [1., 1., 1.,  ..., 1., 1., 1.],\n",
       "          [1., 1., 1.,  ..., 1., 1., 1.],\n",
       "          [1., 1., 1.,  ..., 1., 1., 1.]]]),\n",
       " 7)"
      ]
     },
     "execution_count": 3,
     "metadata": {},
     "output_type": "execute_result"
    }
   ],
   "source": [
    "# split into train and test datasets\n",
    "data_size = len(clothing_dataset)\n",
    "data_size\n",
    "train_size = int(0.75 * data_size)\n",
    "test_size = data_size - train_size\n",
    "train_size, test_size\n",
    "\n",
    "train_dataset, test_dataset = random_split(clothing_dataset, [train_size, test_size])\n",
    "train_dataset[0]"
   ]
  },
  {
   "cell_type": "code",
   "execution_count": 4,
   "metadata": {},
   "outputs": [],
   "source": [
    "# prepare data loaders\n",
    "BATCH_SIZE = 32\n",
    "\n",
    "train_dataloader = DataLoader(train_dataset, batch_size=BATCH_SIZE, shuffle=True)\n",
    "test_dataloader = DataLoader(test_dataset, batch_size=BATCH_SIZE, shuffle=True)"
   ]
  },
  {
   "cell_type": "code",
   "execution_count": 5,
   "metadata": {},
   "outputs": [],
   "source": [
    "# classification acccuracy metric\n",
    "def accuracy_fn(y_pred, y_true):\n",
    "    correct = torch.eq(y_true, y_pred).sum().item()\n",
    "    acc = (correct / len(y_pred)) * 100\n",
    "    return acc"
   ]
  },
  {
   "cell_type": "code",
   "execution_count": 6,
   "metadata": {},
   "outputs": [
    {
     "name": "stdout",
     "output_type": "stream",
     "text": [
      "Train loss: 2.53204\tTrain accuracy: 27.74% Test loss: 2.50717\tTest accuracy: 28.18%\n",
      "Train loss: 2.29904\tTrain accuracy: 31.52% Test loss: 2.20931\tTest accuracy: 35.12%\n",
      "Train loss: 1.70324\tTrain accuracy: 44.43% Test loss: 2.23295\tTest accuracy: 42.10%\n",
      "Train loss: 1.48578\tTrain accuracy: 50.75% Test loss: 1.59824\tTest accuracy: 46.50%\n",
      "Train loss: 1.37570\tTrain accuracy: 53.69% Test loss: 1.53464\tTest accuracy: 49.68%\n",
      "Train loss: 1.31718\tTrain accuracy: 55.35% Test loss: 1.41973\tTest accuracy: 52.27%\n",
      "Train loss: 1.28292\tTrain accuracy: 56.43% Test loss: 1.44667\tTest accuracy: 51.56%\n",
      "Train loss: 1.23967\tTrain accuracy: 57.46% Test loss: 1.31212\tTest accuracy: 57.12%\n",
      "Train loss: 1.21759\tTrain accuracy: 58.33% Test loss: 1.53961\tTest accuracy: 50.43%\n",
      "Train loss: 1.26565\tTrain accuracy: 56.60% Test loss: 1.61927\tTest accuracy: 46.00%\n",
      "Train loss: 1.19409\tTrain accuracy: 58.89% Test loss: 1.14385\tTest accuracy: 60.60%\n",
      "Train loss: 1.17345\tTrain accuracy: 59.69% Test loss: 1.98922\tTest accuracy: 33.15%\n",
      "Train loss: 1.16196\tTrain accuracy: 59.63% Test loss: 1.22601\tTest accuracy: 56.54%\n",
      "Train loss: 1.14210\tTrain accuracy: 60.64% Test loss: 1.31500\tTest accuracy: 57.42%\n",
      "Train loss: 1.12499\tTrain accuracy: 61.04% Test loss: 1.27679\tTest accuracy: 56.19%\n",
      "Train loss: 1.10632\tTrain accuracy: 61.59% Test loss: 1.13948\tTest accuracy: 60.56%\n",
      "Train loss: 1.09261\tTrain accuracy: 61.83% Test loss: 1.37333\tTest accuracy: 55.02%\n",
      "Train loss: 1.08576\tTrain accuracy: 62.06% Test loss: 1.17037\tTest accuracy: 60.51%\n",
      "Train loss: 1.08762\tTrain accuracy: 61.77% Test loss: 1.11359\tTest accuracy: 61.02%\n",
      "Train loss: 1.06205\tTrain accuracy: 62.66% Test loss: 1.32573\tTest accuracy: 55.57%\n",
      "Train loss: 1.05923\tTrain accuracy: 62.83% Test loss: 1.76897\tTest accuracy: 42.57%\n",
      "Train loss: 1.06165\tTrain accuracy: 62.53% Test loss: 1.07830\tTest accuracy: 63.13%\n",
      "Train loss: 1.03854\tTrain accuracy: 63.34% Test loss: 1.03143\tTest accuracy: 64.22%\n",
      "Train loss: 1.02665\tTrain accuracy: 64.40% Test loss: 1.28943\tTest accuracy: 56.97%\n",
      "Train loss: 1.03892\tTrain accuracy: 63.54% Test loss: 1.04906\tTest accuracy: 63.67%\n",
      "Train loss: 1.01762\tTrain accuracy: 63.98% Test loss: 1.18934\tTest accuracy: 60.92%\n",
      "Train loss: 1.02597\tTrain accuracy: 64.41% Test loss: 1.06306\tTest accuracy: 63.53%\n",
      "Train loss: 1.01310\tTrain accuracy: 64.46% Test loss: 1.08400\tTest accuracy: 63.16%\n",
      "Train loss: 1.00058\tTrain accuracy: 64.79% Test loss: 1.12809\tTest accuracy: 62.14%\n",
      "Train loss: 1.01671\tTrain accuracy: 64.32% Test loss: 1.17016\tTest accuracy: 59.89%\n"
     ]
    }
   ],
   "source": [
    "model = ClothingClassifier(input_shape=1, hidden_units=10, output_shape=len(classes))\n",
    "loss_fn = nn.CrossEntropyLoss()\n",
    "optimizer = torch.optim.SGD(params=model.parameters(), lr=0.1)\n",
    "\n",
    "epochs = 30\n",
    "for epoch in range(epochs):\n",
    "  train_res = train_step(model, train_dataloader, loss_fn, optimizer, accuracy_fn)\n",
    "  test_res = test_step(model, test_dataloader, loss_fn, accuracy_fn)\n",
    "  print(train_res, test_res)"
   ]
  }
 ],
 "metadata": {
  "kernelspec": {
   "display_name": ".venv",
   "language": "python",
   "name": "python3"
  },
  "language_info": {
   "codemirror_mode": {
    "name": "ipython",
    "version": 3
   },
   "file_extension": ".py",
   "mimetype": "text/x-python",
   "name": "python",
   "nbconvert_exporter": "python",
   "pygments_lexer": "ipython3",
   "version": "3.10.4"
  }
 },
 "nbformat": 4,
 "nbformat_minor": 2
}
